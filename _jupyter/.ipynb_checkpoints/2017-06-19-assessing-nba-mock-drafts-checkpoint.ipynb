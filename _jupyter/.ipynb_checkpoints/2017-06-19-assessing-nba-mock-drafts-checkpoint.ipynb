{
 "cells": [
  {
   "cell_type": "markdown",
   "metadata": {},
   "source": [
    "---\n",
    "layout: post\n",
    "title: Assessing NBA Mock Drafts\n",
    "date: 2016--07-08 12:22\n",
    "category: Sports\n",
    "tags: basketball, nba, statistics, correlation, draft, mock\n",
    "---"
   ]
  },
  {
   "cell_type": "markdown",
   "metadata": {},
   "source": [
    "I know most have probably shifted their attention to free agency, but here is my late contribution to the NBA Draft discussion.\n",
    "\n",
    "In the days after the NBA Draft it is very common to come across many different sets of rankings or grades intended to assess the level of success of each NBA team's particular draft night. These are fun to read and discuss but, in most cases, we will not know the true winners and losers for some time. The Thunder seemed to have a great night, but who knows if [Domantas Sabonis](http://espn.go.com/nba/player/_/id/3155942/domantas-sabonis) will follow in the footsteps of his pops, [Arvydas](https://www.youtube.com/watch?v=LW9q-0x2gu8), and become an all-timer or not. It will take years to tell.  \n",
    "\n",
    "However, the conclusion of the NBA Draft does allow us to determine a different set of winners and losers. Namely, we can determine which mock drafts performed best, as the completion of the actual draft presents us with validation data to score predictions. There was an [article on Nylon Calculus](http://nyloncalculus.com/2016/06/28/grading-the-2016-nba-mock-drafts/) which did just this; i.e., ranked several of the popular mock drafts based on accuracy. The article experimented with several methods&mdash;number of \"hits\" (correct predictions), Root Mean Squared Error (RMSE), and what I'll call a weighted absolute error. \n",
    "\n",
    "Here, I decided to take a different approach and see how it compared. I used data from 8 of the 10 sites listed in the Nylon Calculus article:\n",
    "\n",
    "- [~~Chad Ford (ESPN)~~](http://espn.go.com/nba/insider/story/_/id/16436916/chad-ford-nba-mock-draft-10-picks-boston-celtics-los-angeles-lakers-minnesota-timberwolves-more)\n",
    "- [DraftExpress](http://www.draftexpress.com/nba-mock-draft/2016/)\n",
    "- [Gary Parrish (CBS)](http://www.cbssports.com/nba/news/nba-mock-draft-2016-lsus-ben-simmons-to-the-sixers-at-no-1-looks-to-be-done/)\n",
    "- [Sam Vecenie (CBS)](http://www.cbssports.com/nba/draft/mock-draft/expert/sam-vecenie)\n",
    "- [Scott Howard-Cooper (NBA.com)](http://www.nba.com/2016/news/features/scott_howard_cooper/06/23/2016-nba-mock-draft-4-0/)\n",
    "- [Andrew Sharp (SI)](http://www.si.com/nba/2016/06/23/nba-mock-draft-trades-buzz-ben-simmons-dragan-bender-brandon-ingram)\n",
    "- [~~Hoopshype~~](http://hoopshype.com/2016/06/22/nba-mock-draft-2016/)\n",
    "- [Jonathan Wasserman (Bleacher Report)](http://bleacherreport.com/articles/2647672-2016-nba-mock-draft-jonathan-wassermans-final-2-round-predictions/page/2)\n",
    "- [NBADraft.net](http://www.nbadraft.net/2016mock_draft)\n",
    "- [NBADraft.net User Consensus](http://www.nbadraft.net/nba_mock_drafts/consensus)\n",
    "\n",
    "### The Basics of Correlation \n",
    "\n",
    "Correlation deals with the relationship between two random variables. Correlation coefficients measure the strength of association between variables by assigning a number between -1 and 1. Generally speaking, correlation coefficients close to -1 represent strong inverse relationships, correlation coefficients close to 0 represent little association between the variables,  while correlation coefficients close to 1 represent strong positive relationships between the variables. There are three *main* flavors of the correlation coefficient used in statistics: Pearson, Spearman, and Kendall. Here, we will denote these as $r$, $\\rho$, and $\\tau$, respectively. \n",
    "\n",
    "[$r$ is the most familiar form of correlation](https://en.wikipedia.org/wiki/Pearson_product-moment_correlation_coefficient). It simply measures the linear association between two variables, $X$ and $Y$. \n",
    "\n",
    "$$ r_{XY} = \\frac{\\sum_{i=1}^n (x_i - \\bar{x})(y_i - \\bar{y})}{\\sqrt{\\sum_{i=1}^n (x_i - \\bar{x})^2}\\sqrt{\\sum_{i=1}^n (y_i - \\bar{y})^2}} $$\n",
    "\n",
    "where:\n",
    "- $n$ is the number of observations\n",
    "- $x_i$ is the $i^{th}$ observation of the variable $X$\n",
    "- $y_i$ is the $i^{th}$ observation of the variable $Y$\n",
    "- $\\bar{x} = \\frac{1}{n} \\sum_{i=1}^n x_i$\n",
    "- $\\bar{y} = \\frac{1}{n} \\sum_{i=1}^n y_i$\n",
    "\n",
    "Below is an example of this calculation on a simulated dataset intended to be negatively correlated."
   ]
  },
  {
   "cell_type": "code",
   "execution_count": 1,
   "metadata": {},
   "outputs": [
    {
     "name": "stdout",
     "output_type": "stream",
     "text": [
      "X:  [22 57 68  8 17 49 15  4 53 56]\n",
      "Y:  [-16 -30 -40  29  -7 -37  13  22 -28 -19]\n",
      "r:  -0.902473138512\n"
     ]
    }
   ],
   "source": [
    "import numpy as np\n",
    "import scipy.stats as stats\n",
    "n = 10\n",
    "np.random.seed(4277)\n",
    "X = np.random.randint(1, 100, n)\n",
    "Y = -X + np.random.randint(1, 50, n)\n",
    "print('X: ', X)\n",
    "print('Y: ', Y)\n",
    "print('r: ', stats.pearsonr(X,Y)[0])"
   ]
  },
  {
   "cell_type": "markdown",
   "metadata": {},
   "source": [
    "Both [Spearman's $\\rho$](https://en.wikipedia.org/wiki/Spearman%27s_rank_correlation_coefficient) and [Kendall's $\\tau$](https://en.wikipedia.org/wiki/Kendall_rank_correlation_coefficient) are known as [rank correlation coefficients](https://en.wikipedia.org/wiki/Rank_correlation) and are nonparametric methods. They remove an underlying normality assumption present in Pearson's method. In essence, these methods are intended to answer the following question: As $X$ increases, does $Y$ tend to increase, *regardless of that increase being linear*? \n",
    "\n",
    "To compute $\\rho_{XY}$, we convert the raw values of the $n$ $x_i$'s and $n$ $y_i$'s to ranks, $rg_{x_i}$ and $rg_{y_i}$.  $\\rho$ is then defined as $r_{rg_X, rg_Y}$, the Pearson correlation between the ranked variables. If all $n$ ranks are distinct integers, it can be computed using the following shortcut formula,\n",
    "\n",
    "$$\\rho_{XY} = 1 - \\frac{6 \\sum_{i=1}^n d_i^2}{n(n^2 - 1)}$$\n",
    "\n",
    "where:\n",
    "- $d_i = rg_{x_i} - rg_{y_i}$\n",
    "\n",
    "An implementation of this formula, applied to the data generated above, is illustrated below.\n"
   ]
  },
  {
   "cell_type": "code",
   "execution_count": 2,
   "metadata": {},
   "outputs": [],
   "source": [
    "from __future__ import division\n",
    "# An implementation of Spearman's rho\n",
    "def spearman(x, y, raw = True):\n",
    "    # if the data are not ranked yet, we must rank them\n",
    "    if raw:\n",
    "        rg_x = stats.rankdata(x)\n",
    "        rg_y = stats.rankdata(y)\n",
    "    else:\n",
    "        rg_x = x\n",
    "        rg_y = y\n",
    "    rho = 1 - (6*(((rg_x - rg_y)**2).sum()))/(len(rg_x)*(len(rg_x)**2 - 1))\n",
    "    return rho"
   ]
  },
  {
   "cell_type": "code",
   "execution_count": 3,
   "metadata": {},
   "outputs": [
    {
     "name": "stdout",
     "output_type": "stream",
     "text": [
      "Spearman's Rho: -0.90303030303\n"
     ]
    }
   ],
   "source": [
    "# Using the same data generated in the previous example\n",
    "print(\"Spearman's Rho:\", spearman(X, Y))"
   ]
  },
  {
   "cell_type": "markdown",
   "metadata": {},
   "source": [
    "On the other hand, to compute Kendall's $\\tau$, we calculate:\n",
    "\n",
    "$$\\tau_{XY} = \\frac{C-D}{C+D}$$\n",
    "\n",
    "where:\n",
    "- C = $\\#$ of concordant pairs\n",
    "- D = $\\#$ of discordant pairs\n",
    "\n",
    "Pairs of obsevations are said to be concordant if the ranks for both elements agree. This idea of concordance is best illustrated by example, as in the YouTube videos embedded below."
   ]
  },
  {
   "cell_type": "code",
   "execution_count": 4,
   "metadata": {},
   "outputs": [
    {
     "data": {
      "image/jpeg": "[encoded data removed]",
      "text/html": [
       "\n",
       "        <iframe\n",
       "            width=\"400\"\n",
       "            height=\"300\"\n",
       "            src=\"https://www.youtube.com/embed/oXVxaSoY94k\"\n",
       "            frameborder=\"0\"\n",
       "            allowfullscreen\n",
       "        ></iframe>\n",
       "        "
      ],
      "text/plain": [
       "<IPython.lib.display.YouTubeVideo at 0x106aa0828>"
      ]
     },
     "execution_count": 4,
     "metadata": {},
     "output_type": "execute_result"
    }
   ],
   "source": [
    "from IPython.display import YouTubeVideo\n",
    "# Part 1\n",
    "YouTubeVideo(\"oXVxaSoY94k\")"
   ]
  },
  {
   "cell_type": "code",
   "execution_count": 5,
   "metadata": {
    "scrolled": true
   },
   "outputs": [
    {
     "data": {
      "image/jpeg": "[encoded data removed]",
      "text/html": [
       "\n",
       "        <iframe\n",
       "            width=\"400\"\n",
       "            height=\"300\"\n",
       "            src=\"https://www.youtube.com/embed/V4MgE43SrgM\"\n",
       "            frameborder=\"0\"\n",
       "            allowfullscreen\n",
       "        ></iframe>\n",
       "        "
      ],
      "text/plain": [
       "<IPython.lib.display.YouTubeVideo at 0x10912a240>"
      ]
     },
     "execution_count": 5,
     "metadata": {},
     "output_type": "execute_result"
    }
   ],
   "source": [
    "# Part 2\n",
    "YouTubeVideo(\"V4MgE43SrgM\")"
   ]
  },
  {
   "cell_type": "markdown",
   "metadata": {},
   "source": [
    "Below, I calculate Kendall's $\\tau$ for the simulated data."
   ]
  },
  {
   "cell_type": "code",
   "execution_count": 6,
   "metadata": {},
   "outputs": [
    {
     "name": "stdout",
     "output_type": "stream",
     "text": [
      "Kendall's tau: -0.777777777778\n"
     ]
    }
   ],
   "source": [
    "rg_X, rg_Y = stats.rankdata(X), stats.rankdata(Y)\n",
    "print(\"Kendall's tau:\", stats.kendalltau(rg_X, rg_Y)[0])"
   ]
  },
  {
   "cell_type": "markdown",
   "metadata": {},
   "source": [
    "### Applying Rank Correlation Methods to NBA Mock Drafts\n",
    "\n",
    "While RMSE and absolute error are generally good ways to validate predictions, these methods are better used when the data are continuous. NBA draft data are inherently ordered and this must be taken into account when scoring predictions. Hence, I decided to assess the accuracy of the mock drafts by computing ranked correlations (Spearman's $\\rho$ and Kendall's $\\tau$) between the mocks and the actual draft. Generally speaking, $\\rho > \\tau$, though $\\rho$ is particularly sensitive to \"bad\" misses.\n",
    "\n",
    "Some technical details:\n",
    "- Andrew Sharp (SI) only had a first round mock and thus was not graded on his overall performance\n",
    "- I dealt with drafted players that were not projected to be drafted in the following manner:\n",
    "    - Let $u$ represent the number of players drafted that were not projected to be drafted and let $p_i$ represent one such player, i.e., $i \\in 1, 2, \\dots, u$\n",
    "    - I randomly assign (without replacement) each $p_i$ a slot in $(61, 62, \\dots, 61 + u)$ \n",
    "    - Consequently, correlation coefficients can change slightly with different random orderings\n",
    "- The same \"missing\" methodology applied above was applied to the second round analysis\n",
    "- For the first round analysis, if a player was not projected to be drafted in the first round but was indeed selected in the first round, then, borrowing the notation from above, he was randomly assigned a slot in $31, 32, \\dots, 31 +u$. This choice was made due to the fact that the SI mock only contained Round 1. In effect, the application of the aforementioned imputation methodology puts all Round 1 mocks on a level playing field.  It does not, for instance, seriously penalize a mock for projecting a true first rounder in the 50s&mdash;something the SI mock may or may not have done as well."
   ]
  },
  {
   "cell_type": "code",
   "execution_count": 7,
   "metadata": {
    "collapsed": true
   },
   "outputs": [],
   "source": [
    "import pandas as pd\n",
    "import os"
   ]
  },
  {
   "cell_type": "code",
   "execution_count": 8,
   "metadata": {},
   "outputs": [],
   "source": [
    "# read-in the data files\n",
    "mocks_raw = {}\n",
    "actuals_raw = {}\n",
    "for file in os.listdir('../supps/nba_draft'):\n",
    "    if file.endswith(\"Mock.csv\"):\n",
    "        mocks_raw[str(file).split('_')[0]] = pd.read_csv('../supps/nba_draft/'+file)\n",
    "    elif file.endswith(\"Actual.csv\"):\n",
    "        actuals_raw[str(file).split('_')[0]] = pd.read_csv('../supps/nba_draft/'+file)"
   ]
  },
  {
   "cell_type": "code",
   "execution_count": 9,
   "metadata": {
    "collapsed": true
   },
   "outputs": [],
   "source": [
    "# we eventually want to convert the raw files into properly formatted files\n",
    "mocks = mocks_raw.copy()\n",
    "actuals = actuals_raw.copy()"
   ]
  },
  {
   "cell_type": "code",
   "execution_count": 10,
   "metadata": {},
   "outputs": [],
   "source": [
    "def de_name(l):\n",
    "    '''\n",
    "    Extract player names from the DraftExpress data\n",
    "    '''\n",
    "    name = ''\n",
    "    for i in range(0, len(l)-1):\n",
    "        if i != (len(l)-2):\n",
    "            name += l[i]\n",
    "            name += ' '\n",
    "        else:\n",
    "            name += l[i]\n",
    "    return name"
   ]
  },
  {
   "cell_type": "code",
   "execution_count": 11,
   "metadata": {
    "collapsed": true
   },
   "outputs": [],
   "source": [
    "def cbs_name(x):\n",
    "    '''\n",
    "    Extract player names from the CBS data\n",
    "    '''\n",
    "    return x.split('\\n')[0].strip()"
   ]
  },
  {
   "cell_type": "code",
   "execution_count": 12,
   "metadata": {},
   "outputs": [],
   "source": [
    "# DraftExpress cleaning\n",
    "mocks['DraftExpress']['Player'] = mocks_raw['DraftExpress']['Pick'].str.split('\\n').str.get(\n",
    "    0).str.split().apply(de_name)"
   ]
  },
  {
   "cell_type": "code",
   "execution_count": 13,
   "metadata": {},
   "outputs": [],
   "source": [
    "# CBSSports cleaning\n",
    "for name in ['Parrish', 'Vecenie']:\n",
    "    mocks[name]['Player'] = mocks_raw[name]['Player'].apply(cbs_name)\n",
    "    # Vecenie drafted AJ Hammons and Denzel Valentine twice -- in each case one\n",
    "    # of the two picks was exactly correct (ironic?), so we'll penalize a bit\n",
    "    if name == 'Vecenie':\n",
    "        mocks[name].ix[45, 'Player'] = 'abcd'\n",
    "        mocks[name].ix[13, 'Player'] = 'abcde'\n",
    "    mocks[name]['Player'] = mocks[name]['Player'].replace('Wade Baldwin IV',\n",
    "                                                          'Wade Baldwin')\n",
    "    mocks[name]['Player'] = mocks[name]['Player'].replace(\"DeAndre' Bembry\",\n",
    "                                                          'DeAndre Bembry')\n",
    "    mocks[name]['Player'] = mocks[name]['Player'].replace('Stephen Zimmerman Jr.', \n",
    "                                                      'Stephen Zimmerman')\n",
    "    actuals[name] = actuals['DraftExpress']"
   ]
  },
  {
   "cell_type": "code",
   "execution_count": 14,
   "metadata": {
    "collapsed": true
   },
   "outputs": [],
   "source": [
    "# Bleacher Report cleaning\n",
    "mocks['BR']['Player'] = mocks['BR']['Player'].replace('Wade Baldwin IV',\n",
    "                                                      'Wade Baldwin')\n",
    "mocks['BR']['Player'] = mocks['BR']['Player'].replace(\"DeAndre' Bembry\",\n",
    "                                                      'DeAndre Bembry')\n",
    "actuals['BR'] = actuals['DraftExpress']"
   ]
  },
  {
   "cell_type": "code",
   "execution_count": 15,
   "metadata": {
    "collapsed": true
   },
   "outputs": [],
   "source": [
    "# NBA.com cleaning\n",
    "mocks['NBA']['Player'] = mocks['NBA']['Player'].replace('Domatas Sabonis',\n",
    "                                                        'Domantas Sabonis')\n",
    "mocks['NBA']['Player'] = mocks['NBA']['Player'].replace('Wade Baldwin IV',\n",
    "                                                        'Wade Baldwin')\n",
    "mocks['NBA']['Player'] = mocks['NBA']['Player'].replace(\"DeAndre' Bembry\",\n",
    "                                                        'DeAndre Bembry')\n",
    "actuals['NBA'] = actuals['DraftExpress']"
   ]
  },
  {
   "cell_type": "code",
   "execution_count": 16,
   "metadata": {},
   "outputs": [],
   "source": [
    "# SI cleaning\n",
    "mocks['SI']['Player'] = mocks['SI']['Player'].replace('WADE BALDWIN IV',\n",
    "                                                      'WADE BALDWIN')\n",
    "actuals['SI'] = actuals['DraftExpress'][:30].copy()\n",
    "actuals['SI']['Player'] = actuals['SI']['Player'].str.upper()"
   ]
  },
  {
   "cell_type": "code",
   "execution_count": 17,
   "metadata": {},
   "outputs": [],
   "source": [
    "def correlations(actual, mock, on='Player', picknum = '#'):\n",
    "    '''\n",
    "    Calculate tau and rho between the given mock draft and the actual draft.\n",
    "    ----------------------------------------------------------------------------------\n",
    "    actual: df containing the actual draft data (be careful, could differ based on \n",
    "    naming conventions of site)\n",
    "    \n",
    "    mock: df containing the mock draft data\n",
    "    \n",
    "    on: Name of var on which we the df's are merged; corresponds to names of players\n",
    "    \n",
    "    picknum: Name of var containing pick #'s \n",
    "    '''\n",
    "    merged = pd.merge(actual, mock, on=on,\n",
    "            how='outer')\n",
    "    for i in merged:\n",
    "        if on not in i and picknum not in i:\n",
    "            merged = merged.drop(i, axis=1)\n",
    "    merged = merged[np.isfinite(merged[picknum+'_x'])]\n",
    "    if len(mock) == 60:\n",
    "        round1 = merged[:30].copy()\n",
    "        round1_miss = round1.loc[round1['#_y'] > 30, '#_y'].count() + 30 - round1['#_y'].count()\n",
    "        random_picks1 = np.random.choice(np.arange(31, 31+round1_miss), round1_miss, replace=False)\n",
    "        counter1 = 0\n",
    "        for i,j in zip(round1.index, round1['#_y']):\n",
    "            if j > 30 or not np.isfinite(j):\n",
    "                round1.ix[i, '#_y'] = random_picks1[counter1]\n",
    "                counter1 += 1 \n",
    "                \n",
    "        x1_1, x2_1 = round1[picknum+'_x'].values, round1[picknum+'_y'].values\n",
    "        tau_1 = stats.kendalltau(x1_1, x2_1)[0]\n",
    "        rho_1 = spearman(x1_1, x2_1, raw = False)\n",
    "        \n",
    "        round2 = merged[30:].copy()\n",
    "        round2_miss = 30 - round2['#_y'].count()\n",
    "        random_picks2 = np.random.choice(np.arange(61, 61+round2_miss), round2_miss, replace=False)\n",
    "        counter2 = 0\n",
    "        for i,j in zip(round2.index, round2['#_y']):\n",
    "            if not np.isfinite(j):\n",
    "                round2.ix[i, '#_y'] = random_picks2[counter2]\n",
    "                counter2 += 1 \n",
    "        \n",
    "        x1_2, x2_2 = round2[picknum+'_x'].values, round2[picknum+'_y'].values\n",
    "        tau_2 = stats.kendalltau(x1_2, x2_2)[0]\n",
    "        rho_2 = spearman(x1_2, x2_2, raw = False)\n",
    "        \n",
    "        full = merged.copy()\n",
    "        full_miss = 60 - full['#_y'].count()\n",
    "        random_picks3 = np.random.choice(np.arange(61, 61+full_miss), full_miss, replace=False)\n",
    "        counter3 = 0\n",
    "        for i,j in zip(full.index, full['#_y']):\n",
    "            if not np.isfinite(j):\n",
    "                full.ix[i, '#_y'] = random_picks3[counter3]\n",
    "                counter3 += 1 \n",
    "        \n",
    "        x1_full, x2_full = full[picknum+'_x'].values, full[picknum+'_y'].values\n",
    "        tau_full = stats.kendalltau(x1_full, x2_full)[0]\n",
    "        rho_full = spearman(x1_full, x2_full, raw = False)\n",
    "        \n",
    "        return tau_1, rho_1, tau_2, rho_2, tau_full, rho_full\n",
    "                \n",
    "    elif len(mock) == 30:\n",
    "        round1 = merged\n",
    "        round1_miss = round1.loc[round1['#_y'] > 30, '#_y'].count() + 30 - round1['#_y'].count()\n",
    "        random_picks1 = np.random.choice(np.arange(31, 31+round1_miss), round1_miss, replace=False)\n",
    "        counter1 = 0\n",
    "        for i,j in zip(round1.index, round1['#_y']):\n",
    "            if j > 30 or not np.isfinite(j):\n",
    "                round1.ix[i, '#_y'] = random_picks1[counter1]\n",
    "                counter1 += 1\n",
    "                \n",
    "        x1_1, x2_1 = round1[picknum+'_x'].values, round1[picknum+'_y'].values\n",
    "        tau_1 = stats.kendalltau(x1_1, x2_1)[0]\n",
    "        rho_1 = spearman(x1_1, x2_1, raw = False)\n",
    "\n",
    "        return tau_1, rho_1"
   ]
  },
  {
   "cell_type": "code",
   "execution_count": 18,
   "metadata": {},
   "outputs": [],
   "source": [
    "# create dicts of correlation results and store draft names in list\n",
    "drafts = []\n",
    "taus = {'Round1': [],\n",
    "       'Round2': [],\n",
    "       'Full': []}\n",
    "rhos = {'Round1': [],\n",
    "       'Round2': [],\n",
    "       'Full': []}\n",
    "for i in actuals:\n",
    "    drafts.append(i)\n",
    "    results = correlations(actuals[i], mocks[i])\n",
    "    if len(results) == 6:\n",
    "        taus['Round1'].append(results[0])\n",
    "        rhos['Round1'].append(results[1])\n",
    "        taus['Round2'].append(results[2])\n",
    "        rhos['Round2'].append(results[3])\n",
    "        taus['Full'].append(results[4])\n",
    "        rhos['Full'].append(results[5])\n",
    "    elif len(results) == 2:\n",
    "        taus['Round1'].append(results[0])\n",
    "        rhos['Round1'].append(results[1])\n",
    "        taus['Round2'].append(np.nan)\n",
    "        rhos['Round2'].append(np.nan)\n",
    "        taus['Full'].append(np.nan)\n",
    "        rhos['Full'].append(np.nan)"
   ]
  },
  {
   "cell_type": "code",
   "execution_count": 19,
   "metadata": {},
   "outputs": [],
   "source": [
    "# create a df of results\n",
    "draft_scores = pd.DataFrame({'Tau_Round1': taus['Round1'], \n",
    "                             'Tau_Round2': taus['Round2'],\n",
    "                             'Tau_Overall': taus['Full'],\n",
    "                             'Rho_Round1': rhos['Round1'], \n",
    "                             'Rho_Round2': rhos['Round2'],\n",
    "                             'Rho_Overall': rhos['Full']}, index = drafts)"
   ]
  },
  {
   "cell_type": "markdown",
   "metadata": {},
   "source": [
    "In the table below, I've sorted the results by Kendall's $\\tau$ for the entire draft (which by default places SI last). I personally think that Kendall's $\\tau$ does a better job than Spearman's $\\rho$ because it is not nearly as sensitive to \"bad\" misses. For instance, Spearman's $\\rho$ seriously penalizes several of the mocks for their second round performance. I would expect second round scores to be considerbaly lower than those of the first round due to the inclusion of first round projections (e.g., [Deyonta Davis](http://www.sbnation.com/nba/2016/6/23/11873304/nba-draft-2016-deyonta-davis-boston-celtics-trade-memphis-grizzlies)) as well as the inherent unpredictability and obscurity of those picks. That said, zero&mdash;or even negative&mdash;correlation is not intuitively appealing. Regardless of the metric used, DraftExpress is the clear winner, as was also the case in the Nylon Calculus article."
   ]
  },
  {
   "cell_type": "code",
   "execution_count": 20,
   "metadata": {},
   "outputs": [
    {
     "data": {
      "text/html": [
       "<div>\n",
       "<table border=\"1\" class=\"dataframe\">\n",
       "  <thead>\n",
       "    <tr style=\"text-align: right;\">\n",
       "      <th></th>\n",
       "      <th>Rho_Overall</th>\n",
       "      <th>Rho_Round1</th>\n",
       "      <th>Rho_Round2</th>\n",
       "      <th>Tau_Overall</th>\n",
       "      <th>Tau_Round1</th>\n",
       "      <th>Tau_Round2</th>\n",
       "    </tr>\n",
       "  </thead>\n",
       "  <tbody>\n",
       "    <tr>\n",
       "      <th>DraftExpress</th>\n",
       "      <td>0.863823</td>\n",
       "      <td>0.728365</td>\n",
       "      <td>0.404894</td>\n",
       "      <td>0.726554</td>\n",
       "      <td>0.604598</td>\n",
       "      <td>0.540230</td>\n",
       "    </tr>\n",
       "    <tr>\n",
       "      <th>NBA</th>\n",
       "      <td>0.798138</td>\n",
       "      <td>0.468743</td>\n",
       "      <td>0.315907</td>\n",
       "      <td>0.649718</td>\n",
       "      <td>0.457471</td>\n",
       "      <td>0.512644</td>\n",
       "    </tr>\n",
       "    <tr>\n",
       "      <th>NBADraft</th>\n",
       "      <td>0.806891</td>\n",
       "      <td>0.528142</td>\n",
       "      <td>-0.008454</td>\n",
       "      <td>0.648588</td>\n",
       "      <td>0.425287</td>\n",
       "      <td>0.388506</td>\n",
       "    </tr>\n",
       "    <tr>\n",
       "      <th>Vecenie</th>\n",
       "      <td>0.801278</td>\n",
       "      <td>0.382870</td>\n",
       "      <td>0.198220</td>\n",
       "      <td>0.641808</td>\n",
       "      <td>0.388506</td>\n",
       "      <td>0.512644</td>\n",
       "    </tr>\n",
       "    <tr>\n",
       "      <th>Parrish</th>\n",
       "      <td>0.765351</td>\n",
       "      <td>0.554171</td>\n",
       "      <td>0.236707</td>\n",
       "      <td>0.637288</td>\n",
       "      <td>0.494253</td>\n",
       "      <td>0.540230</td>\n",
       "    </tr>\n",
       "    <tr>\n",
       "      <th>NBADraftConsensus</th>\n",
       "      <td>0.752931</td>\n",
       "      <td>0.415350</td>\n",
       "      <td>-0.145717</td>\n",
       "      <td>0.624859</td>\n",
       "      <td>0.416092</td>\n",
       "      <td>0.365517</td>\n",
       "    </tr>\n",
       "    <tr>\n",
       "      <th>BR</th>\n",
       "      <td>0.764379</td>\n",
       "      <td>0.349722</td>\n",
       "      <td>-0.008676</td>\n",
       "      <td>0.596610</td>\n",
       "      <td>0.379310</td>\n",
       "      <td>0.439080</td>\n",
       "    </tr>\n",
       "    <tr>\n",
       "      <th>SI</th>\n",
       "      <td>NaN</td>\n",
       "      <td>0.486318</td>\n",
       "      <td>NaN</td>\n",
       "      <td>NaN</td>\n",
       "      <td>0.494253</td>\n",
       "      <td>NaN</td>\n",
       "    </tr>\n",
       "  </tbody>\n",
       "</table>\n",
       "</div>"
      ],
      "text/plain": [
       "                   Rho_Overall  Rho_Round1  Rho_Round2  Tau_Overall  \\\n",
       "DraftExpress          0.863823    0.728365    0.404894     0.726554   \n",
       "NBA                   0.798138    0.468743    0.315907     0.649718   \n",
       "NBADraft              0.806891    0.528142   -0.008454     0.648588   \n",
       "Vecenie               0.801278    0.382870    0.198220     0.641808   \n",
       "Parrish               0.765351    0.554171    0.236707     0.637288   \n",
       "NBADraftConsensus     0.752931    0.415350   -0.145717     0.624859   \n",
       "BR                    0.764379    0.349722   -0.008676     0.596610   \n",
       "SI                         NaN    0.486318         NaN          NaN   \n",
       "\n",
       "                   Tau_Round1  Tau_Round2  \n",
       "DraftExpress         0.604598    0.540230  \n",
       "NBA                  0.457471    0.512644  \n",
       "NBADraft             0.425287    0.388506  \n",
       "Vecenie              0.388506    0.512644  \n",
       "Parrish              0.494253    0.540230  \n",
       "NBADraftConsensus    0.416092    0.365517  \n",
       "BR                   0.379310    0.439080  \n",
       "SI                   0.494253         NaN  "
      ]
     },
     "execution_count": 20,
     "metadata": {},
     "output_type": "execute_result"
    }
   ],
   "source": [
    "draft_scores.sort_values('Tau_Overall', ascending = False)"
   ]
  },
  {
   "cell_type": "markdown",
   "metadata": {},
   "source": [
    "Below, I've included a full comparison of several rankings."
   ]
  },
  {
   "cell_type": "code",
   "execution_count": 21,
   "metadata": {},
   "outputs": [
    {
     "data": {
      "text/html": [
       "<div>\n",
       "<table border=\"1\" class=\"dataframe\">\n",
       "  <thead>\n",
       "    <tr style=\"text-align: right;\">\n",
       "      <th></th>\n",
       "      <th>Kendall's Tau</th>\n",
       "      <th>Kendall's Tau Round 1</th>\n",
       "      <th>Nylon Calculus</th>\n",
       "      <th>Spearman's Rho</th>\n",
       "    </tr>\n",
       "    <tr>\n",
       "      <th>Rank</th>\n",
       "      <th></th>\n",
       "      <th></th>\n",
       "      <th></th>\n",
       "      <th></th>\n",
       "    </tr>\n",
       "  </thead>\n",
       "  <tbody>\n",
       "    <tr>\n",
       "      <th>1</th>\n",
       "      <td>DraftExpress</td>\n",
       "      <td>DraftExpress</td>\n",
       "      <td>DraftExpress</td>\n",
       "      <td>DraftExpress</td>\n",
       "    </tr>\n",
       "    <tr>\n",
       "      <th>2</th>\n",
       "      <td>NBA</td>\n",
       "      <td>Parrish</td>\n",
       "      <td>NBADraft</td>\n",
       "      <td>NBADraft</td>\n",
       "    </tr>\n",
       "    <tr>\n",
       "      <th>3</th>\n",
       "      <td>NBADraft</td>\n",
       "      <td>NBADraft</td>\n",
       "      <td>NBA</td>\n",
       "      <td>Vecenie</td>\n",
       "    </tr>\n",
       "    <tr>\n",
       "      <th>4</th>\n",
       "      <td>Vecenie</td>\n",
       "      <td>SI</td>\n",
       "      <td>Parrish</td>\n",
       "      <td>NBA</td>\n",
       "    </tr>\n",
       "    <tr>\n",
       "      <th>5</th>\n",
       "      <td>Parrish</td>\n",
       "      <td>NBA</td>\n",
       "      <td>Vecenie</td>\n",
       "      <td>Parrish</td>\n",
       "    </tr>\n",
       "    <tr>\n",
       "      <th>6</th>\n",
       "      <td>NBADraftConsensus</td>\n",
       "      <td>NBADraftConsensus</td>\n",
       "      <td>NBADraftConsensus</td>\n",
       "      <td>BR</td>\n",
       "    </tr>\n",
       "    <tr>\n",
       "      <th>7</th>\n",
       "      <td>BR</td>\n",
       "      <td>Vecenie</td>\n",
       "      <td>BR</td>\n",
       "      <td>NBADraftConsensus</td>\n",
       "    </tr>\n",
       "    <tr>\n",
       "      <th>8</th>\n",
       "      <td>SI</td>\n",
       "      <td>BR</td>\n",
       "      <td>SI</td>\n",
       "      <td>SI</td>\n",
       "    </tr>\n",
       "  </tbody>\n",
       "</table>\n",
       "</div>"
      ],
      "text/plain": [
       "          Kendall's Tau Kendall's Tau Round 1     Nylon Calculus  \\\n",
       "Rank                                                               \n",
       "1          DraftExpress          DraftExpress       DraftExpress   \n",
       "2                   NBA               Parrish           NBADraft   \n",
       "3              NBADraft              NBADraft                NBA   \n",
       "4               Vecenie                    SI            Parrish   \n",
       "5               Parrish                   NBA            Vecenie   \n",
       "6     NBADraftConsensus     NBADraftConsensus  NBADraftConsensus   \n",
       "7                    BR               Vecenie                 BR   \n",
       "8                    SI                    BR                 SI   \n",
       "\n",
       "         Spearman's Rho  \n",
       "Rank                     \n",
       "1          DraftExpress  \n",
       "2              NBADraft  \n",
       "3               Vecenie  \n",
       "4                   NBA  \n",
       "5               Parrish  \n",
       "6                    BR  \n",
       "7     NBADraftConsensus  \n",
       "8                    SI  "
      ]
     },
     "execution_count": 21,
     "metadata": {},
     "output_type": "execute_result"
    }
   ],
   "source": [
    "ranks = pd.DataFrame({\"Kendall's Tau\": draft_scores.sort_values('Tau_Overall', ascending = False).index,\n",
    "                      \"Spearman's Rho\": draft_scores.sort_values('Rho_Overall', ascending = False).index,\n",
    "                      \"Kendall's Tau Round 1\": draft_scores.sort_values('Rho_Round1', ascending = False).index,\n",
    "                      'Nylon Calculus': ['DraftExpress', 'NBADraft', 'NBA', 'Parrish', 'Vecenie',\n",
    "                                      'NBADraftConsensus', 'BR', 'SI']\n",
    "                              })\n",
    "ranks.index = np.arange(1,9) \n",
    "ranks.index.name = 'Rank'\n",
    "ranks"
   ]
  },
  {
   "cell_type": "markdown",
   "metadata": {
    "collapsed": true
   },
   "source": [
    "I think my rankings compare favorably with the weighted absolute error-based rankings presented in the Nylon Calculus article. There are a few switched positions here and there, but I would argue that in the aggregrate they are very similar. Perhaps the most glaring discrepancy concerns the NBADraft.net rankings. By Kendall's $\\tau$, it was the fourth best mock, while Nylon Calculus placed it second. In the end, I believe that rank correlation-based metrics are more suitable to assess the mock draft predictions, as NBA draft picks are ordinal by nature. \n",
    "\n",
    "The rank methods are not perfect, however. Most notably, it should be a bigger deal to miss the first pick by one slot than the $52^{nd}$ selection by one slot. This is not captured in the correlation methods presented here and hopefully can be incorporated in the future. Nevertheless, I would still lend a good deal of credence to the correlation-based methods. "
   ]
  }
 ],
 "metadata": {
  "kernelspec": {
   "display_name": "Python 3",
   "language": "python",
   "name": "python3"
  },
  "language_info": {
   "codemirror_mode": {
    "name": "ipython",
    "version": 3
   },
   "file_extension": ".py",
   "mimetype": "text/x-python",
   "name": "python",
   "nbconvert_exporter": "python",
   "pygments_lexer": "ipython3",
   "version": "3.5.2"
  }
 },
 "nbformat": 4,
 "nbformat_minor": 1
}
