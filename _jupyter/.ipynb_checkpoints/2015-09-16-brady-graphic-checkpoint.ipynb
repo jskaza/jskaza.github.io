{
 "cells": [
  {
   "cell_type": "markdown",
   "metadata": {},
   "source": [
    "---\n",
    "layout: post\n",
    "title: Reworking a Tom Brady Infographic\n",
    "date: 2015-09-16\n",
    "category: Sports\n",
    "tags: data-viz, python, patriots, brady, nfl\n",
    "---"
   ]
  },
  {
   "cell_type": "markdown",
   "metadata": {},
   "source": [
    "I recently came across this graphic, posted on the [New England Patriots Updates](https://www.facebook.com/New-England-Patriots-Updates-113706182118308/timeline/) Facebook page, in my Facebook News Feed. \n",
    "\n",
    "![brady](/images/brady_graphic.jpg)\n",
    "\n",
    "While the numbers in the infographic are remarkable&mdash;Brady has at least a .500 career record against every team in the NFL&mdash;I thought that the design of the graphic could be improved upon. Namely, it is difficult to draw comparisons among Brady's opponents because:\n",
    "- Each opposing team has its own distinct circle; reading and comparing text in 31 circles can get overwhelming.\n",
    "- There is no particular ordering of the circles. Though it is nearly alphabetical, for some reason GB and NYG are placed at the end of the list.\n",
    "- As [Kaiser Fung of Junk Charts](http://junkcharts.typepad.com/) would say, the chart is of the \"bring your own calculator\" variety. In other words, the reader needs to perform some calculations to draw conclusions from the chart. For example, a curious reader could not immediately determine whether Brady has a better winning percentage against the Jets (NYJ) or the Chargers (SD). To do so requires comparing $\\frac{20}{26}$ to $\\frac{5}{7}$ (which turns out to be about 76.9% to 71.4%).\n",
    "\n",
    "Below, I have reproduced this chart, using [Plotly](https://plot.ly/python/), a Python graphing library, in a way that I believe allows for easier interpretation, especially in regard to comparisons. Here, I chose to order the observations based on games played."
   ]
  },
  {
   "cell_type": "code",
   "execution_count": 1,
   "metadata": {},
   "outputs": [],
   "source": [
    "import pandas as pd\n",
    "import plotly.plotly as py\n",
    "from plotly.graph_objs import *\n",
    "import numpy as np\n",
    "%matplotlib inline"
   ]
  },
  {
   "cell_type": "code",
   "execution_count": 2,
   "metadata": {},
   "outputs": [],
   "source": [
    "df = pd.DataFrame()\n",
    "df['Team'] = ['ARI', 'ATL', 'BAL', 'BUF', 'CAR', 'CHI', 'CIN', 'CLE', 'DAL', 'DEN', 'DET', 'HOU', 'IND', 'JAX', \n",
    "'KC', 'MIA', 'MIN',\t'NO', 'NYJ', 'OAK', 'PHI', 'PIT', 'SD', 'SF', 'SEA', 'STL', 'TB', 'TEN', 'WAS', 'GB', 'NYG']\n",
    "df['W'] = [1, 4, 5, 23, 2, 4, 5, 5, 3, 5, 4, 4, 9, 4, 4, 18, 4, 3, 20, 3, 3, 6, 5, 1, 1, 2, 3, 4, 2, 2, 2]\n",
    "df['L'] = [1, 0, 1, 3, 2, 0, 1, 1, 0, 5, 1, 1, 3, 0, 2, 8, 0, 1, 6, 1, 0, 2, 2, 1, 1, 1, 0, 1, 1, 2, 1]\n",
    "df['Games'] = df['W'] + df['L']\n",
    "df['WP'] = df['W']/df['Games']\n",
    "df = df.sort_values(by='Games')"
   ]
  },
  {
   "cell_type": "code",
   "execution_count": 3,
   "metadata": {},
   "outputs": [
    {
     "data": {
      "text/html": [
       "<iframe id=\"igraph\" scrolling=\"no\" style=\"border:none;\" seamless=\"seamless\" src=\"https://plot.ly/~jskaza/711.embed\" height=\"800px\" width=\"100%\"></iframe>"
      ],
      "text/plain": [
       "<plotly.tools.PlotlyDisplay object>"
      ]
     },
     "execution_count": 3,
     "metadata": {},
     "output_type": "execute_result"
    }
   ],
   "source": [
    "text = df['WP']\n",
    "\n",
    "trace1 = Bar(\n",
    "        x=df['W'],\n",
    "        y=df['Team'],\n",
    "        orientation = 'h',\n",
    "        name = 'Wins',\n",
    "        marker = Marker(\n",
    "            color = 'rgb(70,130,180)'\n",
    "        ),\n",
    "        opacity = .5,\n",
    "    )\n",
    "\n",
    "trace2 = Bar(\n",
    "        x=df['L'],\n",
    "        y=df['Team'],\n",
    "        orientation = 'h',\n",
    "        name = 'Losses',\n",
    "        marker = Marker(\n",
    "        color = 'red'\n",
    "        ),\n",
    "        opacity=.5\n",
    "    )\n",
    "\n",
    "data=Data([trace1, trace2])\n",
    "layout = dict(\n",
    "    title='Tom Brady vs. Every Team in the NFL (Reg. Season)',\n",
    "    barmode='stack',\n",
    "    height = 800,\n",
    "    showlegend=False,\n",
    "    xaxis=XAxis(title='Games'),\n",
    "    plot_bgcolor='ECE6E6'\n",
    ")\n",
    "\n",
    "\n",
    "annotations = []\n",
    "\n",
    "for i in range(0, len(df['L'])):\n",
    "    annotations.append(Annotation(x=df['L'][i] + df['W'][i] + 2, y=df['Team'][i], \n",
    "                                  text=str(np.round(text[i]*100, 1))+'%',\n",
    "                                  font=Font(family='Arial', size=14),\n",
    "                                  showarrow=False))\n",
    "    annotations.append(Annotation(x=df['W'][15] - 8, y=df['Team'][15], \n",
    "                                  text='Wins',\n",
    "                                  font=Font(family='Arial', size=14),\n",
    "                                  showarrow=False))\n",
    "    annotations.append(Annotation(x=df['L'][15] + 14, y=df['Team'][15], \n",
    "                                  text='Losses',\n",
    "                                  font=Font(family='Arial', size=14),\n",
    "                                  showarrow=False))\n",
    "    layout['annotations'] = annotations\n",
    "    \n",
    "fig=Figure(data=data, layout=layout)\n",
    "\n",
    "py.iplot(fig, filename='brady_bar')"
   ]
  }
 ],
 "metadata": {
  "kernelspec": {
   "display_name": "Python 3",
   "language": "python",
   "name": "python3"
  },
  "language_info": {
   "codemirror_mode": {
    "name": "ipython",
    "version": 3
   },
   "file_extension": ".py",
   "mimetype": "text/x-python",
   "name": "python",
   "nbconvert_exporter": "python",
   "pygments_lexer": "ipython3",
   "version": "3.5.2"
  }
 },
 "nbformat": 4,
 "nbformat_minor": 1
}
