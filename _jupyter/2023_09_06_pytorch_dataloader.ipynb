{
  "cells": [
    {
      "cell_type": "markdown",
      "metadata": {
        "id": "1Pispm4TSePM"
      },
      "source": [
        "---\n",
        "layout: post\n",
        "title: Custom Datasets & Dataloaders in PyTorch\n",
        "date: 2023-09-06\n",
        "category: AI\n",
        "tags: deep-learning, RAM, python, neural-networks, colab, pytorch\n",
        "---"
      ]
    },
    {
      "cell_type": "markdown",
      "metadata": {
        "id": "ZTsY7rvkTOeT"
      },
      "source": [
        "[Google Colab](https://colab.google/) is one of my favorite tools (as a matter of fact, this post was written there). It is a platform that hosts Jupyter Notebooks for free and even provides access to GPUs. As a result of the limited compute and the memory constraints, Colab is ideally suited for prototyping, not training complex, production-grade models on enormous datasets.\n",
        "\n",
        "At the time of this writing, the free GPU instance gives users 12.7 GB of CPU Random Access Memory (RAM), 15.0 GB of GPU RAM, and 78.2 GB of hard disk drive (HDD) storage. RAM is a type of computer memory that provides fast, temporary storage for data that is actively being used by the computer. It allows for quick access and retrieval of information, making it essential for running programs and tasks in real-time. HDD, on the other hand, is a long-term storage device that uses spinning disks to store data magnetically. It offers high-capacity storage for files and programs but is significantly slower than RAM, making it better suited for storing large amounts of data that doesn't need to be accessed rapidly during active use.\n",
        "\n",
        "In my experience, I have run into RAM issues in Colab even in small, toy examples. It is routine to have > 12.7 GB of tensors for model training, especially when the tensors have high-dimensionality, such as in image or video tasks. This means that clever approaches are often needed to train models using tensors, as the models need to hold data in RAM to perform calculations.\n",
        "\n",
        "Enter [DataLoaders](https://pytorch.org/tutorials/beginner/basics/data_tutorial.html#) (called [DataGenerators](https://www.tensorflow.org/api_docs/python/tf/keras/preprocessing/image/ImageDataGenerator) in Keras), which allow us to leverage the ample HDD space. As most models do not need access to the entire dataset at a given time (they instead use batches), Data Loaders allow us to only load the data for the current training computations into RAM. We find what we need from disk, load it into RAM, perform some calculations, send it back from disk, and move onto the next batch.\n",
        "\n",
        "The way to achieve this in PyTorch is via a custom `Dataset` class, which must implement three methods: `__init__`, `__len__`, and `__getitem__`. Simply put, `__init__` is used to instantiate the Dataset object, `__len__` returns the number of samples in the dataset, and `__getitem__` function extracts and returns a sample from the dataset. `__getitem__` is the most important method, as this is where the loading from disk is implemented. To illustrate this process, consider the following example using the [Labeled Faces in the Wild (LFW) dataset](https://scikit-learn.org/stable/modules/generated/sklearn.datasets.fetch_lfw_people.html#sklearn.datasets.fetch_lfw_people), which contains celebrity faces.\n",
        "\n",
        "\n",
        "*Note that all of this of course applies to any computing environment, Colab is just a great example of where it is particularly helpful.*"
      ]
    },
    {
      "cell_type": "code",
      "execution_count": 2,
      "metadata": {
        "id": "hnVAkcJCx4T3"
      },
      "outputs": [],
      "source": [
        "from sklearn.datasets import fetch_lfw_people\n",
        "import torch\n",
        "import numpy as np\n",
        "from pathlib import Path\n",
        "import matplotlib.pyplot as plt\n",
        "import random\n",
        "\n",
        "Path('/content/data').mkdir(parents=True, exist_ok=True)\n",
        "path = Path('/content/data')"
      ]
    },
    {
      "cell_type": "code",
      "execution_count": 3,
      "metadata": {
        "colab": {
          "base_uri": "https://localhost:8080/",
          "height": 428
        },
        "id": "aInPliOp0iGl",
        "outputId": "92a6ed52-9dcc-49cc-815d-f549220ef0cf"
      },
      "outputs": [
        {
          "data": {
            "image/png": "[encoded data removed]",
            "text/plain": [
              "<Figure size 640x480 with 1 Axes>"
            ]
          },
          "metadata": {},
          "output_type": "display_data"
        }
      ],
      "source": [
        "# fetch data and plot a sample face\n",
        "data = fetch_lfw_people()\n",
        "plt.xticks(())\n",
        "plt.yticks(())\n",
        "plt.title(data['target_names'][data['target'][6400]])\n",
        "plt.imshow(data['images'][6400], cmap=plt.cm.gray);"
      ]
    },
    {
      "cell_type": "code",
      "execution_count": 4,
      "metadata": {
        "colab": {
          "base_uri": "https://localhost:8080/"
        },
        "id": "WC6UvCey-ENx",
        "outputId": "a2b8c049-0083-4f1c-a09d-3317330aa531"
      },
      "outputs": [
        {
          "name": "stdout",
          "output_type": "stream",
          "text": [
            "Saved 13233 samples in /content/data\n"
          ]
        }
      ],
      "source": [
        "# dictionary mapping image ID to label\n",
        "labels = {}\n",
        "for idx, image in enumerate(data['images']):\n",
        "  image_id = f'image_{idx}'\n",
        "  labels[image_id] = data['target'][idx]\n",
        "  # images saved to disk using same ID as in label lookup\n",
        "  torch.save(torch.from_numpy(image), Path.joinpath(path, f'{image_id}.pt'))\n",
        "\n",
        "\n",
        "files = list(sorted(path.glob('*.pt')))\n",
        "print(f'Saved {len(files)} samples in {path}')"
      ]
    },
    {
      "cell_type": "code",
      "execution_count": 5,
      "metadata": {
        "id": "d5jSBtthIN0I"
      },
      "outputs": [],
      "source": [
        "# partition data into train/val\n",
        "train_pct = 0.8\n",
        "num_train = int(len(labels) * train_pct)\n",
        "ids = list(labels.keys())\n",
        "\n",
        "random.shuffle(ids)\n",
        "\n",
        "train_ids = ids[:num_train]\n",
        "val_ids = ids[num_train:]\n",
        "\n",
        "\n",
        "partitions = {'train': train_ids,\n",
        "              'val': val_ids}"
      ]
    },
    {
      "cell_type": "code",
      "execution_count": 6,
      "metadata": {
        "id": "TsJ7owjO0IcF"
      },
      "outputs": [],
      "source": [
        "class Dataset(torch.utils.data.Dataset):\n",
        "  def __init__(self, data_dir: Path|str, list_IDs: list, labels: dict):\n",
        "    '''\n",
        "    data_dir: directory where individual samples are stored\n",
        "    list_ids: list of all IDs in the data\n",
        "    labels: dictionary that maps ID to label\n",
        "    '''\n",
        "    self.data_dir = data_dir\n",
        "    self.IDs = list_IDs\n",
        "    self.labels = labels\n",
        "\n",
        "  def __len__(self):\n",
        "    return len(self.IDs)\n",
        "\n",
        "  def __getitem__(self, index):\n",
        "    ID = self.IDs[index]\n",
        "    X = torch.load(Path.joinpath(self.data_dir, f'{ID}.pt'))\n",
        "    y = self.labels[ID]\n",
        "    return X, y"
      ]
    },
    {
      "cell_type": "code",
      "execution_count": 7,
      "metadata": {
        "id": "2V9XkemWMcvH"
      },
      "outputs": [],
      "source": [
        "params = {'batch_size': 64,\n",
        "          'shuffle': True}\n",
        "\n",
        "# dataloader for training\n",
        "train_set = Dataset(path, partitions['train'], labels)\n",
        "train_dataloader = torch.utils.data.DataLoader(train_set, **params)\n",
        "\n",
        "# dataloader for validation\n",
        "val_set = Dataset(path, partitions['val'], labels)\n",
        "val_dataloader = torch.utils.data.DataLoader(val_set, **params)"
      ]
    },
    {
      "cell_type": "code",
      "execution_count": 8,
      "metadata": {
        "colab": {
          "base_uri": "https://localhost:8080/"
        },
        "id": "H-gj8zxwNkjW",
        "outputId": "c6cdf00d-b315-49f0-cd3e-cfd9539b1ab1"
      },
      "outputs": [
        {
          "name": "stdout",
          "output_type": "stream",
          "text": [
            "52930\n"
          ]
        }
      ],
      "source": [
        "# training loop\n",
        "n_epochs = 5\n",
        "samples_seen = 0\n",
        "for epoch in range(n_epochs):\n",
        "  for inputs, labels in train_dataloader:\n",
        "    samples_seen += len(inputs)\n",
        "    # training code\n",
        "\n",
        "  for inputs, labels in val_dataloader:\n",
        "    # validation code\n",
        "    pass\n",
        "\n",
        "# confirm that each training sample is seen n_epochs times\n",
        "assert(samples_seen == len(train_ids)*n_epochs)\n",
        "print(samples_seen)"
      ]
    }
  ],
  "metadata": {
    "accelerator": "GPU",
    "colab": {
      "gpuType": "T4",
      "provenance": []
    },
    "kernelspec": {
      "display_name": "Python 3",
      "name": "python3"
    },
    "language_info": {
      "name": "python"
    }
  },
  "nbformat": 4,
  "nbformat_minor": 0
}
