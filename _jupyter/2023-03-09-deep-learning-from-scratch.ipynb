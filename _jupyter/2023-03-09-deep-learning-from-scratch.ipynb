{
  "nbformat": 4,
  "nbformat_minor": 0,
  "metadata": {
    "colab": {
      "provenance": [],
      "toc_visible": true
    },
    "kernelspec": {
      "name": "python3",
      "display_name": "Python 3"
    },
    "language_info": {
      "name": "python"
    },
    "gpuClass": "standard",
    "accelerator": "GPU"
  },
  "cells": [
    {
      "cell_type": "markdown",
      "source": [
        "---\n",
        "layout: post\n",
        "title: Deep Learning from Scratch\n",
        "date: 2023-03-09\n",
        "category: AI\n",
        "tags: machine-learning, python, neural-networks, deep-learning\n",
        "---"
      ],
      "metadata": {
        "id": "hA7zWt473yjP"
      }
    },
    {
      "cell_type": "markdown",
      "source": [
        "The purpose of this post is twofold. One, with so much jargon in the deep learning space, I want to present my interpretation of several key components of artificial neural networks. Second, while high-level APIs like [Keras](https://keras.io/) and [fastai](https://docs.fast.ai/) make deep learning so accessible and make the Problem -> Architecture -> Training -> Inference pipleine so seamless, I want to work through the underlying mechanics of a basic neural network. This demonstration is largely inspired by the [Chapter 4 notebook](https://github.com/fastai/fastbook/blob/master/04_mnist_basics.ipynb) of the book *Deep Learning for Coders with fastai & PyTorch* by Jeremy Howard and Sylvain Gugger. In the book, the authors trained a binary digit classifier using the [MNIST database](https://en.wikipedia.org/wiki/MNIST_database) to predict 3s vs 7s. Here, I present a multiclass classifier to predict whether a handwritten digit is a 0, 1, 2, 3, 4, 5, 6, 7, 8, or 9 (10 classes)."
      ],
      "metadata": {
        "id": "LtOzzXGP4gnO"
      }
    },
    {
      "cell_type": "code",
      "execution_count": 1,
      "metadata": {
        "id": "woTT0wKsCyOM"
      },
      "outputs": [],
      "source": [
        "from keras.datasets import mnist\n",
        "from PIL import Image\n",
        "import matplotlib.pyplot as plt\n",
        "import numpy as np\n",
        "from functools import partial\n",
        "import torch\n",
        "import torch.nn.functional as F\n",
        "import random\n",
        "import tensorflow as tf\n",
        "\n",
        "if torch.cuda.is_available():\n",
        "  dev = \"cuda:0\"\n",
        "else:\n",
        "  dev = \"cpu\"\n",
        "device = torch.device(dev)\n",
        "\n",
        "random.seed(9)\n",
        "np.random.seed(9)\n",
        "torch.cuda.manual_seed(9)\n",
        "torch.manual_seed(9)\n",
        "torch.backends.cudnn.deterministic = True\n",
        "tf.random.set_seed(9)"
      ]
    },
    {
      "cell_type": "markdown",
      "source": [
        "# Load and Explore Data"
      ],
      "metadata": {
        "id": "FUDypGj2xi3V"
      }
    },
    {
      "cell_type": "code",
      "source": [
        "(train_X, train_y), (test_X, test_y) = mnist.load_data()\n",
        "train_X.shape, train_y.shape, test_X.shape, test_y.shape"
      ],
      "metadata": {
        "id": "iI81hxnhDDfh",
        "colab": {
          "base_uri": "https://localhost:8080/"
        },
        "outputId": "9c87a93d-204a-4d69-8234-9ca4d8cbb78a"
      },
      "execution_count": 2,
      "outputs": [
        {
          "output_type": "execute_result",
          "data": {
            "text/plain": [
              "((60000, 28, 28), (60000,), (10000, 28, 28), (10000,))"
            ]
          },
          "metadata": {},
          "execution_count": 2
        }
      ]
    },
    {
      "cell_type": "code",
      "source": [
        "# plot an example from each class\n",
        "fig, axs = plt.subplots(nrows=2, ncols=5)\n",
        "for i in range(10):\n",
        "  first_example = np.where(train_y == i)[0][0]\n",
        "  ax = plt.subplot(2, 5, i + 1)\n",
        "  ax.imshow(train_X[first_example])\n",
        "  ax.axes.get_xaxis().set_visible(False)\n",
        "  ax.axes.get_yaxis().set_visible(False)"
      ],
      "metadata": {
        "colab": {
          "base_uri": "https://localhost:8080/",
          "height": 324
        },
        "id": "iBLbAzcGDEuF",
        "outputId": "6013fd7d-b436-4789-ba5d-e93f7696b7c6"
      },
      "execution_count": 3,
      "outputs": [
        {
          "output_type": "display_data",
          "data": {
            "text/plain": [
              "<Figure size 640x480 with 10 Axes>"
            ],
            "image/png": "[encoded data removed]"
          },
          "metadata": {}
        }
      ]
    },
    {
      "cell_type": "markdown",
      "source": [
        "# Baseline Approach\n",
        "\n",
        "As a baseline, we can find the \"average\" of each digit 0-9 by averaging pixels across all training examples. Then, we can use [MSE](https://en.wikipedia.org/wiki/Mean_squared_error) to classify a new example as the average digit to which it is closest, a nearest-neighbor-esque approach. We will then use [accuracy](https://en.wikipedia.org/wiki/Accuracy_and_precision) as the metric for the neural network to beat.\n"
      ],
      "metadata": {
        "id": "5I7YpN1CGuk2"
      }
    },
    {
      "cell_type": "code",
      "source": [
        "average_digits = {}\n",
        "for i in range(10):\n",
        "  average_digits[i] = train_X[np.argwhere(train_y == i).flatten()].mean(0)"
      ],
      "metadata": {
        "id": "ZGDYOsWUGd_u"
      },
      "execution_count": 4,
      "outputs": []
    },
    {
      "cell_type": "code",
      "source": [
        "# plot the \"average\" of each class\n",
        "fig, axs = plt.subplots(nrows=2, ncols=5)\n",
        "for i in range(10):\n",
        "  ax = plt.subplot(2, 5, i + 1)\n",
        "  ax.imshow(average_digits[i])\n",
        "  ax.axes.get_xaxis().set_visible(False)\n",
        "  ax.axes.get_yaxis().set_visible(False)"
      ],
      "metadata": {
        "colab": {
          "base_uri": "https://localhost:8080/",
          "height": 324
        },
        "id": "2Ncj1rzkHFvZ",
        "outputId": "2d5108f9-7c79-4a9b-efaa-5b8d68e363e1"
      },
      "execution_count": 5,
      "outputs": [
        {
          "output_type": "display_data",
          "data": {
            "text/plain": [
              "<Figure size 640x480 with 10 Axes>"
            ],
            "image/png": "[encoded data removed]"
          },
          "metadata": {}
        }
      ]
    },
    {
      "cell_type": "code",
      "source": [
        "def mse(input, target):\n",
        "  return np.square(input - target).mean()\n",
        "\n",
        "def get_pred(input, average_digits_dict):\n",
        "  return np.argmin(np.array([mse(input, average_digits_dict[x]) for x in range(10)]))"
      ],
      "metadata": {
        "id": "Vci-lg7YqtQQ"
      },
      "execution_count": 6,
      "outputs": []
    },
    {
      "cell_type": "code",
      "source": [
        "get_pred_partial = partial(get_pred, average_digits_dict=average_digits)\n",
        "print(f\"Accuracy : {(np.fromiter(map(get_pred_partial, test_X), dtype=int) == test_y).mean()}\")"
      ],
      "metadata": {
        "colab": {
          "base_uri": "https://localhost:8080/"
        },
        "id": "TdIr4Qw5t5sN",
        "outputId": "8aef6928-d7c4-423e-abdc-2e75c4adf25d"
      },
      "execution_count": 7,
      "outputs": [
        {
          "output_type": "stream",
          "name": "stdout",
          "text": [
            "Accuracy : 0.8203\n"
          ]
        }
      ]
    },
    {
      "cell_type": "markdown",
      "source": [
        "# Deep Neural Network"
      ],
      "metadata": {
        "id": "DyjJ3L8eGNdX"
      }
    },
    {
      "cell_type": "markdown",
      "source": [
        "The baseline model does a decent job, getting about 82% of digits in the holdout set correct. Hopefully, our neural network will perform considerably better."
      ],
      "metadata": {
        "id": "ldAC7QHA_c-s"
      }
    },
    {
      "cell_type": "code",
      "source": [
        "# convert data to tensors\n",
        "train_X_pt = (torch.tensor(train_X).view(-1,28*28).float()/255).to(device)\n",
        "train_y_pt = F.one_hot(torch.tensor(train_y, dtype=int), num_classes=10).to(device)\n",
        "train_X_pt.shape, train_y_pt.shape"
      ],
      "metadata": {
        "colab": {
          "base_uri": "https://localhost:8080/"
        },
        "id": "vb9gRE3tGRmu",
        "outputId": "34d9fb96-7cfb-446b-ea35-66c8f6106e38"
      },
      "execution_count": 8,
      "outputs": [
        {
          "output_type": "execute_result",
          "data": {
            "text/plain": [
              "(torch.Size([60000, 784]), torch.Size([60000, 10]))"
            ]
          },
          "metadata": {},
          "execution_count": 8
        }
      ]
    },
    {
      "cell_type": "markdown",
      "source": [
        "Each image has 28x28 = 784 pixels. Ultimaltely, we wish to run those 784 pieces of data through a series of functions to consolidate that into 10 numbers that sum to 1. Each of those numbers will represent a probability that the digit belongs to a particular class 0-9. We can then assign the digit to belong to the class with the highest probability.\n",
        "\n",
        "We transform the initial length 784 vector of pixel values by multiplying them by a random matrix of weights with dimension 784x64. 64 is an arbitrary choice. The larger the number, the more complex the network architecture, which equates to greater computational compexity, the ability to detect a larger number of features, and a greater risk of overfitting the data. To complete the slope-intercept form of a line, $y=mx+b$, each of the 64 weights additionally comes with bias term, also randomly initialized. Perhaps the most crucial component of the model specification is the [rectified linear unit (ReLU)](https://en.wikipedia.org/wiki/Rectifier_(neural_networks), an activation function that introduces the property of non-linearity. This function takes the maximum of 0 and x for each element, x, of the vector produced by multiplying the pixel vector by the weight matrix and adding the bias terms. We then repeat the process to make the network \"deep\", carefully crafting weight matrices and bias vecrtors to ensure that input vectors can be multiplied. The final layer produces 10 values, corresponding to the 10 classes, and a [softmax](https://en.wikipedia.org/wiki/Softmax_function) activation is used to create a valid distribution of probabilities. Passing the input data through this flow of mappings encapsulates a *forward pass* through the network.\n"
      ],
      "metadata": {
        "id": "6TWMXw8RAPE5"
      }
    },
    {
      "cell_type": "code",
      "source": [
        "def init_params(size, std=0.2):\n",
        "  # multiply by std for numeric stability\n",
        "  return (torch.randn(size)*std).to(device).requires_grad_()"
      ],
      "metadata": {
        "id": "2tOkTHsDHZ6A"
      },
      "execution_count": 9,
      "outputs": []
    },
    {
      "cell_type": "code",
      "source": [
        "w1 = init_params((28*28,64))\n",
        "b1 = init_params(64)\n",
        "w2 = init_params((64,64))\n",
        "b2 = init_params(64)\n",
        "w3 = init_params((64,10))\n",
        "b3 = init_params(10)"
      ],
      "metadata": {
        "id": "BkTcgW4GHwPO"
      },
      "execution_count": 10,
      "outputs": []
    },
    {
      "cell_type": "code",
      "source": [
        "def neural_net(x):\n",
        "  res = x@w1 + b1 # hidden layer 1\n",
        "  res =  res.max(torch.tensor(0.0)) # activation\n",
        "  res =  res@w2 + b2 # hidden layer 2\n",
        "  res =  res.max(torch.tensor(0.0)) # activation\n",
        "  res =  res@w3 + b3 # hidden layer 3\n",
        "  return res.softmax(1) # activation"
      ],
      "metadata": {
        "id": "d_NNGOk_KT0O"
      },
      "execution_count": 11,
      "outputs": []
    },
    {
      "cell_type": "markdown",
      "source": [
        "As the model is intitialized with random values, we are now faced with an optimization problem. In other words, we are tasked with finding values for the weights and biases, our parameters, which yield sensible predictions. We do this by minimizing a loss function, here [cross-entropy](https://en.wikipedia.org/wiki/Cross_entropy), using [gradient descent](https://en.wikipedia.org/wiki/Gradient_descent). The gradients inform us of the impact on the loss by adjusting each of our parameters up or down. Here, PyTorch is able to calculate gradients using calculus's chain rule: the loss is calculated using cross-entropy, which in turn takes class predictions as input, which was calculated using the functions and parameters specified in the neural network. Rather than adjusting the parameters by the negative of the gradient (to *decrease* loss), we multiply by a hyperparameter known as the *learning rate* to ensure our steps along the gradient aren't too large.  This is the *backward pass* of the network. The forward and backward passes are repeated for the desired number of epochs."
      ],
      "metadata": {
        "id": "YXzBde9_IanN"
      }
    },
    {
      "cell_type": "code",
      "source": [
        "def cross_entropy(predictions, targets):\n",
        "    loss = -torch.sum(targets*torch.log(predictions))\n",
        "    return loss"
      ],
      "metadata": {
        "id": "JxWO0kF3KnjW"
      },
      "execution_count": 12,
      "outputs": []
    },
    {
      "cell_type": "code",
      "source": [
        "learning_rate = 0.00001\n",
        "num_epochs = 3000\n",
        "for epoch in range(num_epochs):\n",
        "  pred = neural_net(train_X_pt)\n",
        "  loss = cross_entropy(pred, train_y_pt)\n",
        "  loss.backward()\n",
        "  # display loss every 500 epochs\n",
        "  if (epoch+1) % 500 == 0:\n",
        "    print(loss)\n",
        "  for p in (w1,b1,w2,b2,w3,b3):\n",
        "    p.data -= p.grad*learning_rate\n",
        "    p.grad.zero_()"
      ],
      "metadata": {
        "colab": {
          "base_uri": "https://localhost:8080/"
        },
        "id": "PT4qQHwlcQsW",
        "outputId": "a9b2c170-d2ac-4f71-c61e-342d7fc6e93d"
      },
      "execution_count": 13,
      "outputs": [
        {
          "output_type": "stream",
          "name": "stdout",
          "text": [
            "tensor(7322.0781, device='cuda:0', grad_fn=<NegBackward0>)\n",
            "tensor(5211.2217, device='cuda:0', grad_fn=<NegBackward0>)\n",
            "tensor(3177.1079, device='cuda:0', grad_fn=<NegBackward0>)\n",
            "tensor(2225.7097, device='cuda:0', grad_fn=<NegBackward0>)\n",
            "tensor(1577.9738, device='cuda:0', grad_fn=<NegBackward0>)\n",
            "tensor(1117.8452, device='cuda:0', grad_fn=<NegBackward0>)\n"
          ]
        }
      ]
    },
    {
      "cell_type": "code",
      "source": [
        "preds = neural_net((torch.tensor(test_X).view(-1,28*28).float()/255).to(dev)).softmax(1)\n",
        "print(f\"Accuracy: {((preds.argmax(dim=1) - torch.tensor(test_y).to(dev)) == 0).sum() / preds.size(0)}\")"
      ],
      "metadata": {
        "id": "XOEGbiG7iiLW",
        "colab": {
          "base_uri": "https://localhost:8080/"
        },
        "outputId": "b13f47ef-b434-40b7-8303-3f12ee07e0f6"
      },
      "execution_count": 14,
      "outputs": [
        {
          "output_type": "stream",
          "name": "stdout",
          "text": [
            "Accuracy: 0.9697999954223633\n"
          ]
        }
      ]
    },
    {
      "cell_type": "markdown",
      "source": [
        "With an accuracy of almost 97% in the holdout dataset, we beat our baseline model considerably. Several other techniques (e.g., [convolutions](https://en.wikipedia.org/wiki/Convolutional_neural_network)) could be leveraged to improve the model even further. As a motivating example, here is an implementation of an architecture known as LeNet-5 [(LeCun et al., 1998)](http://yann.lecun.com/exdb/publis/psgz/lecun-98.ps.gz).\n",
        "\n",
        "\n",
        "![lenet.png](https://raw.githubusercontent.com/MostafaGazar/mobile-ml/master/files/lenet.png)\n",
        "\n"
      ],
      "metadata": {
        "id": "0B1EeGG8-dws"
      }
    },
    {
      "cell_type": "code",
      "source": [
        "model = tf.keras.Sequential()\n",
        "\n",
        "model.add(tf.keras.layers.Conv2D(filters=6, kernel_size=(3, 3), activation='relu', input_shape=(28,28,1)))\n",
        "model.add(tf.keras.layers.AveragePooling2D())\n",
        "\n",
        "model.add(tf.keras.layers.Conv2D(filters=16, kernel_size=(3, 3), activation='relu'))\n",
        "model.add(tf.keras.layers.AveragePooling2D())\n",
        "\n",
        "model.add(tf.keras.layers.Flatten())\n",
        "\n",
        "model.add(tf.keras.layers.Dense(units=120, activation='relu'))\n",
        "\n",
        "model.add(tf.keras.layers.Dense(units=84, activation='relu'))\n",
        "\n",
        "model.add(tf.keras.layers.Dense(units=10, activation = 'softmax'))\n",
        "\n",
        "model.compile(optimizer='Adam', loss='categorical_crossentropy',\n",
        "              metrics=['accuracy'])\n",
        "\n",
        "model.summary()"
      ],
      "metadata": {
        "colab": {
          "base_uri": "https://localhost:8080/"
        },
        "id": "JO5sj2XzydeV",
        "outputId": "19c6a078-2c98-47c3-8ab0-b904d9c8167f"
      },
      "execution_count": 15,
      "outputs": [
        {
          "output_type": "stream",
          "name": "stdout",
          "text": [
            "Model: \"sequential\"\n",
            "_________________________________________________________________\n",
            " Layer (type)                Output Shape              Param #   \n",
            "=================================================================\n",
            " conv2d (Conv2D)             (None, 26, 26, 6)         60        \n",
            "                                                                 \n",
            " average_pooling2d (AverageP  (None, 13, 13, 6)        0         \n",
            " ooling2D)                                                       \n",
            "                                                                 \n",
            " conv2d_1 (Conv2D)           (None, 11, 11, 16)        880       \n",
            "                                                                 \n",
            " average_pooling2d_1 (Averag  (None, 5, 5, 16)         0         \n",
            " ePooling2D)                                                     \n",
            "                                                                 \n",
            " flatten (Flatten)           (None, 400)               0         \n",
            "                                                                 \n",
            " dense (Dense)               (None, 120)               48120     \n",
            "                                                                 \n",
            " dense_1 (Dense)             (None, 84)                10164     \n",
            "                                                                 \n",
            " dense_2 (Dense)             (None, 10)                850       \n",
            "                                                                 \n",
            "=================================================================\n",
            "Total params: 60,074\n",
            "Trainable params: 60,074\n",
            "Non-trainable params: 0\n",
            "_________________________________________________________________\n"
          ]
        }
      ]
    },
    {
      "cell_type": "code",
      "source": [
        "callback = tf.keras.callbacks.EarlyStopping(monitor='val_loss', patience=3)\n",
        "history = model.fit(train_X, tf.keras.utils.to_categorical(train_y),\n",
        "                    batch_size=128, epochs=100, validation_split=0.2,\n",
        "                    callbacks=[callback])"
      ],
      "metadata": {
        "colab": {
          "base_uri": "https://localhost:8080/"
        },
        "id": "4UIUYQAWyyFw",
        "outputId": "cf6da8a1-5009-457d-ef35-eaf4480995c8"
      },
      "execution_count": 16,
      "outputs": [
        {
          "output_type": "stream",
          "name": "stdout",
          "text": [
            "Epoch 1/100\n",
            "375/375 [==============================] - 10s 5ms/step - loss: 0.4338 - accuracy: 0.9005 - val_loss: 0.1231 - val_accuracy: 0.9620\n",
            "Epoch 2/100\n",
            "375/375 [==============================] - 2s 5ms/step - loss: 0.1000 - accuracy: 0.9693 - val_loss: 0.0936 - val_accuracy: 0.9697\n",
            "Epoch 3/100\n",
            "375/375 [==============================] - 2s 5ms/step - loss: 0.0664 - accuracy: 0.9791 - val_loss: 0.0722 - val_accuracy: 0.9787\n",
            "Epoch 4/100\n",
            "375/375 [==============================] - 2s 5ms/step - loss: 0.0506 - accuracy: 0.9843 - val_loss: 0.0732 - val_accuracy: 0.9783\n",
            "Epoch 5/100\n",
            "375/375 [==============================] - 2s 5ms/step - loss: 0.0393 - accuracy: 0.9871 - val_loss: 0.0606 - val_accuracy: 0.9827\n",
            "Epoch 6/100\n",
            "375/375 [==============================] - 3s 7ms/step - loss: 0.0335 - accuracy: 0.9890 - val_loss: 0.0550 - val_accuracy: 0.9834\n",
            "Epoch 7/100\n",
            "375/375 [==============================] - 2s 5ms/step - loss: 0.0288 - accuracy: 0.9906 - val_loss: 0.0595 - val_accuracy: 0.9832\n",
            "Epoch 8/100\n",
            "375/375 [==============================] - 2s 5ms/step - loss: 0.0252 - accuracy: 0.9917 - val_loss: 0.0536 - val_accuracy: 0.9852\n",
            "Epoch 9/100\n",
            "375/375 [==============================] - 2s 5ms/step - loss: 0.0223 - accuracy: 0.9922 - val_loss: 0.0597 - val_accuracy: 0.9839\n",
            "Epoch 10/100\n",
            "375/375 [==============================] - 2s 5ms/step - loss: 0.0201 - accuracy: 0.9932 - val_loss: 0.0557 - val_accuracy: 0.9860\n",
            "Epoch 11/100\n",
            "375/375 [==============================] - 2s 5ms/step - loss: 0.0195 - accuracy: 0.9933 - val_loss: 0.0548 - val_accuracy: 0.9842\n"
          ]
        }
      ]
    },
    {
      "cell_type": "code",
      "source": [
        "print(f\"Accuracy: {((model.predict(test_X).argmax(axis=1) - test_y) == 0).sum() / preds.size(0)}\")"
      ],
      "metadata": {
        "colab": {
          "base_uri": "https://localhost:8080/"
        },
        "id": "-DlstHh6zbvg",
        "outputId": "28154684-cece-4325-9dc9-cfd5e927a1ac"
      },
      "execution_count": 17,
      "outputs": [
        {
          "output_type": "stream",
          "name": "stdout",
          "text": [
            "313/313 [==============================] - 1s 2ms/step\n",
            "Accuracy: 0.9858\n"
          ]
        }
      ]
    }
  ]
}