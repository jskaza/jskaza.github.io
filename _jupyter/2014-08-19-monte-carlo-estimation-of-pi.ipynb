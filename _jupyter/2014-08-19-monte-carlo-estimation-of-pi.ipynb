{
 "cells": [
  {
   "cell_type": "markdown",
   "metadata": {},
   "source": [
    "---\n",
    "layout: post\n",
    "title: Monte Carlo Estimation of Pi\n",
    "date: 2014-08-19 14:22\n",
    "category: Science\n",
    "tags: excel, monte-carlo, pi, python, simulation, wordpress\n",
    "mathjax: true\n",
    "--- "
   ]
  },
  {
   "cell_type": "markdown",
   "metadata": {},
   "source": [
    "Yesterday, I came across a neat way to approximate π using [Monte Carlo simulation](https://en.wikipedia.org/wiki/Monte_Carlo_method). I hadn't seen this exercise before, but I think it is understandable and illustrative, so I decided to give it a try using both Excel and Python.  \n",
    "\n",
    "**How it Works**\n",
    "\n",
    "Imagine we have a unit circle inscribed within a 2x2 square."
   ]
  },
  {
   "cell_type": "code",
   "execution_count": 1,
   "metadata": {},
   "outputs": [
    {
     "data": {
      "image/png": "[encoded data removed]",
      "text/plain": [
       "<matplotlib.figure.Figure at 0x108822908>"
      ]
     },
     "metadata": {},
     "output_type": "display_data"
    }
   ],
   "source": [
    "%matplotlib inline\n",
    "import matplotlib.pyplot as plt\n",
    "plt.xlim(xmin=-1)\n",
    "plt.ylim(ymin=-1)\n",
    "circle1=plt.Circle((0,0),1,color='MidnightBlue')\n",
    "fig = plt.gcf()\n",
    "fig.gca().add_artist(circle1)\n",
    "fig.set_size_inches(5, 5)"
   ]
  },
  {
   "cell_type": "markdown",
   "metadata": {},
   "source": [
    "Now, let's zoom into the top-right quadrant of this plot."
   ]
  },
  {
   "cell_type": "code",
   "execution_count": 2,
   "metadata": {},
   "outputs": [
    {
     "data": {
      "image/png": "[encoded data removed]",
      "text/plain": [
       "<matplotlib.figure.Figure at 0x111458518>"
      ]
     },
     "metadata": {},
     "output_type": "display_data"
    }
   ],
   "source": [
    "circle2=plt.Circle((0,0),1,color='MidnightBlue')\n",
    "fig = plt.gcf()\n",
    "fig.gca().add_artist(circle2)\n",
    "fig.set_size_inches(5, 5)"
   ]
  },
  {
   "cell_type": "markdown",
   "metadata": {},
   "source": [
    "The area of this entire quadrant is equal to r<sup>2</sup> (since the base of the square equals the circle's radius). The area in blue is a quarter-circle and is equal to (1/4)πr<sup>2</sup>. Thus, if one were to plot points within this quadrant at random, we would expect that π/4 (approximately 78.54%) would lie within the blue region. Theoretically, then, to estimate π, one can generate a bunch of coordinate pairs with x and y values between 0 and 1. If the distance of a particular point from the origin is greater than 1 (greater than the radius of the circle), it is classified as outside of the circle. Otherwise, it is contained within the circle. With a large enough sample, the proportion of points within the circle should be close to π/4. We can then multiply this proportion by 4 to estimate π.\n",
    "\n",
    "To get the distance of a point from the origin, we use the [Pythagorean theorem](https://en.wikipedia.org/wiki/Pythagorean_theorem):\n",
    "\n",
    "Distance=$\\sqrt{x^{2} + y^{2}}$.\n",
    "\n",
    "**Executing this using Excel**\n",
    "\n",
    "To carry out this process in Excel, I created two separate sets of\n",
    "11,175 random numbers between 0 and 1 using the ``=RAND()`` function. I then\n",
    "calculated the distance for each pair. Next, I used an ``=IF()`` function to\n",
    "generate indicator variables corresponding to whether or not the\n",
    "calculated distance was greater than 1. Finally, I used ``=COUNTIF()`` to\n",
    "count those distances less than or equal to 1, divided this count by the\n",
    "total number of distances calculated (11,175), and multiplied this\n",
    "fraction by 4 to get an estimate of π.\n",
    "\n",
    "Once all of this is in place, it is quick and easy to get estimates by\n",
    "pressing ``F9`` to refresh the random numbers.\n",
    "\n",
    "Here are 10 of the estimates I generated (accurate to 5 digits):\n",
    "\n",
    "3.14917, 3.12447, 3.14309, 3.13879, 3.14452, 3.14130, 3.12197, 3.12841,\n",
    "3.13128, 3.15347\n",
    "\n",
    "For reference, the true value of π to 5 digits is 3.14159.\n",
    "\n",
    "[Here is a\n",
    "spreadsheet](https://jskaza.files.wordpress.com/2014/08/monte_carlo_est_pi.xls) setup\n",
    "to carry out this simulation exercise.\n",
    "\n",
    "**Executing this using Python**\n",
    "\n",
    "Using 100,000 random number pairs, here are 10 estimates that I got:"
   ]
  },
  {
   "cell_type": "code",
   "execution_count": 3,
   "metadata": {},
   "outputs": [
    {
     "name": "stdout",
     "output_type": "stream",
     "text": [
      "3.13704\n",
      "3.1436\n",
      "3.13956\n",
      "3.14492\n",
      "3.13784\n",
      "3.1414\n",
      "3.14296\n",
      "3.13688\n",
      "3.144\n",
      "3.146\n"
     ]
    }
   ],
   "source": [
    "#single point estimate\n",
    "import random\n",
    "from math import *\n",
    "from __future__ import division\n",
    "\n",
    "i=0\n",
    "for i in range(10):\n",
    "    n=100000 #number of random number pairs\n",
    "    my_randoms = [] #create empty list to store distance calculations\n",
    "    for _ in range(0,n):\n",
    "        my_randoms.append(sqrt((random.random()**2) + (random.random()**2))) #distance calculation\n",
    "    pi_estimate=(sum(x<=1 for x in my_randoms)/n)*4\n",
    "    print(pi_estimate,)\n",
    "    i+=1\n",
    "    "
   ]
  },
  {
   "cell_type": "markdown",
   "metadata": {},
   "source": [
    "Simulating this process programatically also allowed me to go one step\n",
    "further. Again, I used the random number pairs to generate an estimate\n",
    "of π (this time \"only\" 10,000 pairs to spare my computer from the extra\n",
    "calculations). However, using a nested for-loop, I repeated this process\n",
    "10,000 times! One can then take the average of the 10,000 π estimates to\n",
    "get an even better approximation of π. Additionally, one can test the\n",
    "validity of the [Central Limit\n",
    "Theorem](http://en.wikipedia.org/wiki/Central_limit_theorem) to see if\n",
    "the 10,000 estimates are normally distributed.\n",
    "\n",
    "Here's my Python code to do just this:"
   ]
  },
  {
   "cell_type": "code",
   "execution_count": 4,
   "metadata": {},
   "outputs": [
    {
     "name": "stdout",
     "output_type": "stream",
     "text": [
      "Estimate: 3.141337599999959\n"
     ]
    },
    {
     "data": {
      "image/png": "[encoded data removed]",
      "text/plain": [
       "<matplotlib.figure.Figure at 0x111523b70>"
      ]
     },
     "metadata": {},
     "output_type": "display_data"
    }
   ],
   "source": [
    "# average of 10,000 estimates\n",
    "import random\n",
    "from math import *\n",
    "from __future__ import division\n",
    "import matplotlib.pyplot as plt\n",
    "\n",
    "n1= 10000 # number of pi estimates \n",
    "n2= 10000 # number of random number pairs to use in pi estimate\n",
    "\n",
    "pi_list=[] # create empty list to store pi estimates\n",
    "\n",
    "for _ in range(0,n1): # n1 iterations\n",
    "    my_randoms=[]  # create empty list to store distance calculations\n",
    "    for _ in range(0,n2):\n",
    "        my_randoms.append(sqrt((random.random()**2) + (random.random()**2))) # distance calculation\n",
    "    pi_list.append((sum(x<=1 for x in my_randoms)/n2)*4)\n",
    "\n",
    "print(\"Estimate:\", sum(pi_list) / float(len(pi_list))) # average pi estimate\n",
    "\n",
    "_ = plt.hist(pi_list) # histogram of pi estimates"
   ]
  }
 ],
 "metadata": {
  "kernelspec": {
   "display_name": "Python 3",
   "language": "python",
   "name": "python3"
  },
  "language_info": {
   "codemirror_mode": {
    "name": "ipython",
    "version": 3
   },
   "file_extension": ".py",
   "mimetype": "text/x-python",
   "name": "python",
   "nbconvert_exporter": "python",
   "pygments_lexer": "ipython3",
   "version": "3.5.2"
  }
 },
 "nbformat": 4,
 "nbformat_minor": 1
}
