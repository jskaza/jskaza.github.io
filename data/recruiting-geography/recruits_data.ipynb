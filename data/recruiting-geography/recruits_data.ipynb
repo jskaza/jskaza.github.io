{
 "cells": [
  {
   "cell_type": "code",
   "execution_count": 1,
   "metadata": {
    "collapsed": false
   },
   "outputs": [],
   "source": [
    "import pandas as pd\n",
    "import geocoder\n",
    "import time\n",
    "# pd.options.display.max_rows = 400"
   ]
  },
  {
   "cell_type": "code",
   "execution_count": 2,
   "metadata": {
    "collapsed": false
   },
   "outputs": [],
   "source": [
    "# read-in recruits data obtained from https://n.rivals.com/prospect_rankings/rivals250/2016\n",
    "recruits = pd.read_csv('recruits.csv')"
   ]
  },
  {
   "cell_type": "code",
   "execution_count": 3,
   "metadata": {
    "collapsed": false
   },
   "outputs": [],
   "source": [
    "# need to perform some replacements to merge w/ school locations\n",
    "def replacements(x):\n",
    "    if 'St' not in x:\n",
    "        x = x.replace('Mississippi', 'Ole Miss')\n",
    "    for i,j in zip(['Mississippi St', 'Louisiana State', 'Brigham Young', 'TX-San Antonio'], \n",
    "                   ['Mississippi State', 'LSU', 'BYU', 'UTSA']):\n",
    "        x = x.replace(i, j)\n",
    "    return x\n",
    "    \n",
    "recruits['School'] = recruits['School'].apply(replacements)"
   ]
  },
  {
   "cell_type": "code",
   "execution_count": 4,
   "metadata": {
    "collapsed": true
   },
   "outputs": [],
   "source": [
    "# remove HS name, isolate location\n",
    "recruits['home_loc'] = recruits['Location'].apply(lambda x: x.splitlines()[0])\n",
    "recruits = recruits.drop('Location', 1)"
   ]
  },
  {
   "cell_type": "code",
   "execution_count": 5,
   "metadata": {
    "collapsed": false
   },
   "outputs": [],
   "source": [
    "# read-in data on school locations obtained from \n",
    "# https://en.wikipedia.org/wiki/List_of_NCAA_Division_I_FBS_football_programs\n",
    "schools = pd.read_csv('schools.csv')"
   ]
  },
  {
   "cell_type": "code",
   "execution_count": 6,
   "metadata": {
    "collapsed": false
   },
   "outputs": [],
   "source": [
    "# create city, state variable\n",
    "schools['school_loc'] = schools['City']+', '+schools['State']"
   ]
  },
  {
   "cell_type": "code",
   "execution_count": 7,
   "metadata": {
    "collapsed": false
   },
   "outputs": [],
   "source": [
    "# merge recruits and schools into a new dataframe called master\n",
    "master = pd.merge(recruits, schools, left_on='School', right_on='Team', how='outer')"
   ]
  },
  {
   "cell_type": "code",
   "execution_count": 8,
   "metadata": {
    "collapsed": false
   },
   "outputs": [],
   "source": [
    "# get rid of schools that didn't land a top 250 recruit\n",
    "master = master[(master.Name == master.Name)]"
   ]
  },
  {
   "cell_type": "code",
   "execution_count": 9,
   "metadata": {
    "collapsed": true
   },
   "outputs": [],
   "source": [
    "# clean-up dataset by removing irrelevant features\n",
    "for i in ['#', 'Name', 'Pos', 'Stars', 'Ht', 'Wt', 'Team', 'City', 'State', 'School']:    master = master.drop(i, 1)"
   ]
  },
  {
   "cell_type": "code",
   "execution_count": 10,
   "metadata": {
    "collapsed": false
   },
   "outputs": [],
   "source": [
    "def get_latlng(x):\n",
    "    '''\n",
    "    uses the geocoder lib to obtain coordinates\n",
    "    need to add the .15s delay due to rate limits\n",
    "    '''\n",
    "    time.sleep(0.15)\n",
    "    g = geocoder.google(x)\n",
    "    return g.latlng\n",
    "    \n",
    "# get lat-lng for hometowns and colleges\n",
    "master['home_latlng'] = master['home_loc'].apply(get_latlng)\n",
    "master['school_latlng'] = master['school_loc'].apply(get_latlng)"
   ]
  },
  {
   "cell_type": "code",
   "execution_count": 11,
   "metadata": {
    "collapsed": false
   },
   "outputs": [],
   "source": [
    "# isolate lats and lngs as single variables\n",
    "def get_lat(x):\n",
    "    return x[0]\n",
    "\n",
    "def get_lng(x):\n",
    "    return x[1]\n",
    "\n",
    "    \n",
    "master['home_lat'] = master['home_latlng'].apply(get_lat)\n",
    "master['home_lng'] = master['home_latlng'].apply(get_lng)\n",
    "master['school_lat'] = master['school_latlng'].apply(get_lat)\n",
    "master['school_lng'] = master['school_latlng'].apply(get_lng)"
   ]
  },
  {
   "cell_type": "code",
   "execution_count": 12,
   "metadata": {
    "collapsed": true
   },
   "outputs": [],
   "source": [
    "# save the final dataset\n",
    "master.to_csv(\"master.csv\")"
   ]
  },
  {
   "cell_type": "code",
   "execution_count": null,
   "metadata": {
    "collapsed": true
   },
   "outputs": [],
   "source": []
  }
 ],
 "metadata": {
  "kernelspec": {
   "display_name": "Python 2",
   "language": "python",
   "name": "python2"
  },
  "language_info": {
   "codemirror_mode": {
    "name": "ipython",
    "version": 2
   },
   "file_extension": ".py",
   "mimetype": "text/x-python",
   "name": "python",
   "nbconvert_exporter": "python",
   "pygments_lexer": "ipython2",
   "version": "2.7.10"
  }
 },
 "nbformat": 4,
 "nbformat_minor": 0
}
